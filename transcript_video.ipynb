{
 "cells": [
  {
   "cell_type": "code",
   "execution_count": null,
   "metadata": {},
   "outputs": [],
   "source": [
    "import moviepy.editor as mp\n",
    "import speech_recognition as sr\n",
    "\n",
    "# Step 1: Load the video file and extract audio\n",
    "video_path = '/content/drive/MyDrive/1. Introduction to Models - Inputs and Outputs.mp4'  # Replace with your video file path\n",
    "audio_path = 'temp_audio.wav'\n",
    "\n",
    "video_clip = mp.VideoFileClip(video_path)\n",
    "video_clip.audio.write_audiofile(audio_path)\n",
    "\n",
    "# Step 2: Transcribe the audio to text\n",
    "recognizer = sr.Recognizer()\n",
    "\n",
    "with sr.AudioFile(audio_path) as source:\n",
    "    audio = recognizer.record(source)\n",
    "\n",
    "try:\n",
    "    text = recognizer.recognize_google(audio)  # You can use other recognizer methods here\n",
    "    print(\"Transcription:\")\n",
    "    print(text)\n",
    "except sr.UnknownValueError:\n",
    "    print(\"Could not understand audio\")\n",
    "except sr.RequestError as e:\n",
    "    print(f\"Error requesting Google API: {e}\")\n",
    "\n",
    "# Cleanup: Delete the temporary audio file\n",
    "import os\n",
    "os.remove(audio_path)"
   ]
  }
 ],
 "metadata": {
  "language_info": {
   "name": "python"
  }
 },
 "nbformat": 4,
 "nbformat_minor": 2
}
